{
 "cells": [
  {
   "cell_type": "markdown",
   "metadata": {},
   "source": [
    "# L A U N C H E R   \n",
    "**understanding how the original code works without roboclaws**<br>\n",
    "+ Following is a quick code I have put together. It is based on the original code but rearranged as a class instead. I could not spend too much time on the code but, the code in itself is besides the point here. The point is to get an insight in what happens under the hood when we run some actions.<br>The focus of this code is primarily the position function where you will see some encoder values corresponding to motions. Here we move one motor at a time but it is critical to understand that a more complex motion involving several motors is a cascade of the position function (remebering of course that motors should not be working all at once - hence the use of the word cascade. Read about buffer and waiting on buffers in the BasicMicro roboclaw examples to achieve that)."
   ]
  },
  {
   "cell_type": "code",
   "execution_count": 18,
   "metadata": {},
   "outputs": [
    {
     "name": "stdout",
     "output_type": "stream",
     "text": [
      "<bound method Roboclaw.ForwardM1 of <roboclaw.Roboclaw object at 0x703fec50>>\n",
      "128 129 130\n"
     ]
    }
   ],
   "source": [
    "# -*- coding: utf-8 -*-\n",
    "\"\"\"\n",
    "Created on Tue Apr 14 19:42:47 2020\n",
    "@author: Quentin Demory\n",
    "@license: MIT license\n",
    "\"\"\"\n",
    "from flask import Flask, render_template, request, jsonify\n",
    "from roboclaw import Roboclaw # This throws a warning but it works fine\n",
    "import time\n",
    "import socket\n",
    "import logging\n",
    "\n",
    "logging.basicConfig(filename='launcher.log',level=logging.DEBUG)\n",
    "\n",
    "# Open serial port\n",
    "# Linux comport name\n",
    "rc = Roboclaw(\"/dev/ttyACM0\",115200)\n",
    "# Windows comport name\n",
    "# rc = Roboclaw(\"COM8\",115200)\n",
    "rc.Open()\n",
    "encoders_ready = 1 # set to 1 so that the position method can be tested\n",
    "\n",
    "# origo = [90.0, 0, 0, 0] # inactive\n",
    "# actual_coordonates = origo[:] # inactive\n",
    "# case_open = 0 # inactive\n",
    "\n",
    "class motor():\n",
    "\n",
    "    def __init__(self, address, channel, pulses, length, speed_pulses, speed_manual, ready):\n",
    "        self.address = address\n",
    "        self.channel = channel\n",
    "        self.pulses = pulses\n",
    "        self.length = length\n",
    "        self.speed_pulses = speed_pulses\n",
    "        self.speed_manual = speed_manual\n",
    "        self.ready = ready\n",
    "    \n",
    "    def up(self):\n",
    "        command = [rc.ForwardM1, rc.ForwardM2]\n",
    "        try:\n",
    "            command[self.channel](self.address, self.speed_manual)\n",
    "        except AttributeError:\n",
    "            print(f\"{command[self.channel]}\")\n",
    "    \n",
    "    def down(self):\n",
    "        command = [rc.BackwardM1, rc.BackwardM2]\n",
    "        try:\n",
    "            command[self.channel](self.address, self.speed_manual)\n",
    "        except AttributeError:\n",
    "            print(f\"{command[self.channel]}\")\n",
    "\n",
    "    def position(self):\n",
    "        command = [rc.SpeedDistanceM1, rc.SpeedDistanceM2, rc.ReadEncM1, rc.ReadEncM2]\n",
    "        if encoders_ready == 0: #Not execute if the encoders are not ready\n",
    "            return (''), 403 \n",
    "        try:\n",
    "            position = request.form.get('pitch_position', type=int)\n",
    "        except RuntimeError:\n",
    "            position = int(input('which position do you want to reach: '))\n",
    "        if position > self.length or position < 0:\n",
    "            return ('Out of bounds'), 400\n",
    "        elif position == 0:\n",
    "            objective = 0\n",
    "        else:\n",
    "            objective = int(self.pulses/(self.length/position))\n",
    "            print(f'objective = {objective}')\n",
    "        try:\n",
    "            actual = command[self.channel+2](self.address)[1]\n",
    "        except AttributeError:\n",
    "            actual = int(input(\"What is your starting position? \"))*int(self.pulses/self.length) # Set this to any value between 0 and self.pulses\n",
    "            print(f'starting point: {actual/(self.pulses/self.length)}')\n",
    "        increment = objective-actual\n",
    "        if increment >= 0:\n",
    "            try:\n",
    "                command[self.channel](self.address,self.speed_pulses,increment,1) #(address, +-speed, pulses, buffer(0=buffered, 1=Execute immediately))\n",
    "                command[self.channel](self.address,0,0,0) #To avoid deceleration\n",
    "            except AttributeError:\n",
    "                print(f'I go {increment} steps')\n",
    "                print(f'{self.address}, {self.speed_pulses}, {increment}')\n",
    "#                logger.info(f'{command[self.channel]}')\n",
    "        else:\n",
    "            try:\n",
    "                command[self.channel](self.address,-self.speed_pulses,-increment,1)\n",
    "                command[self.channel](self.address,0,0,0) #To avoid deceleration\n",
    "            except AttributeError:\n",
    "                print(f'I go {increment} steps')\n",
    "                print(f'{self.address}, {self.speed_pulses}, {increment}')\n",
    "#                logger.info(f'{command[self.channel]}')\n",
    "                \n",
    "    def stop(self):\n",
    "        command = [rc.ForwardM1, rc.ForwardM2]\n",
    "        try:\n",
    "            command[self.channel](self.address, 0)\n",
    "        except AttributeError:\n",
    "            print(f\"{command[self.channel]}\")\n",
    "    \n",
    "pitch = motor(0x80, 0, 355000, 90.0, 7000, 127, 70.0)   # pitch\n",
    "rotation = motor(0x80, 1, 950000, 180.0, 16000, 15, 10.0)  # rotation\n",
    "lift = motor(0x81, 0, 19000, 130.0, 420, 127, 130.0)    # lift\n",
    "launch = motor(0x81, 1, 14800, 111.0, 6*13400, 12, 0.0)   # launch\n",
    "caseL = motor(0x82, 0, 5000, 5.0, 200, 127, 5.0)  # case left\n",
    "caseR = motor(0x82, 1, 5000, 5.0, 200, 127, 5.0)  # case right \n",
    "\n",
    "pitch.up()\n",
    "# Master_M1.down()\n",
    "# Slave_M2.position()\n",
    "print(pitch.address, lift.address, caseL.address)\n",
    "\n",
    "# launch has more variables but they are only speed variations and different belt positions\n",
    "# launch_acceleration=(launch_speed_pulses**2)/13400 #Acceleration during launch (pulses/second2)\n",
    "# launch_max_speed=10           #Maximum launch speed\n",
    "# launch_min_speed=1            #Minimum launch speed\n",
    "# launch_max_acceleration=48    #Maximum launch acceleration\n",
    "# launch_min_acceleration=1     #Minimum launch acceleration\n",
    "# launch_standby=8000           #Drone position during stand-by\n",
    "# launch_mount=17000            #Drone position during mounting\n",
    "# launch_break=21000            #Belt position during breaking\n",
    "# launch_bottom=0               #Drone position at the back part of the capsule\n",
    "# launch_connect=2190           #Belt position for touching the upper part \"\"\"\n"
   ]
  },
  {
   "cell_type": "markdown",
   "metadata": {},
   "source": [
    "We see here that the output when running this file is the method the script tried to use to perform ```pitch.up()``` but also ouput the address of the pitch, lift, caseL. Let us do a few more of these before you get the gist of it:"
   ]
  },
  {
   "cell_type": "code",
   "execution_count": 3,
   "metadata": {},
   "outputs": [
    {
     "name": "stdout",
     "output_type": "stream",
     "text": [
      "<bound method Roboclaw.BackwardM1 of <roboclaw.Roboclaw object at 0x703fe430>>\n"
     ]
    }
   ],
   "source": [
    "pitch.down()"
   ]
  },
  {
   "cell_type": "code",
   "execution_count": 4,
   "metadata": {},
   "outputs": [
    {
     "name": "stdout",
     "output_type": "stream",
     "text": [
      "<bound method Roboclaw.ForwardM1 of <roboclaw.Roboclaw object at 0x703fe430>>\n"
     ]
    }
   ],
   "source": [
    "pitch.stop()"
   ]
  },
  {
   "cell_type": "code",
   "execution_count": 5,
   "metadata": {},
   "outputs": [
    {
     "name": "stdout",
     "output_type": "stream",
     "text": [
      "<bound method Roboclaw.ForwardM2 of <roboclaw.Roboclaw object at 0x703fe430>>\n",
      "<bound method Roboclaw.BackwardM2 of <roboclaw.Roboclaw object at 0x703fe430>>\n",
      "<bound method Roboclaw.ForwardM2 of <roboclaw.Roboclaw object at 0x703fe430>>\n"
     ]
    }
   ],
   "source": [
    "rotation.up()\n",
    "rotation.down()\n",
    "rotation.stop()"
   ]
  },
  {
   "cell_type": "code",
   "execution_count": 6,
   "metadata": {},
   "outputs": [
    {
     "name": "stdout",
     "output_type": "stream",
     "text": [
      "<bound method Roboclaw.ForwardM1 of <roboclaw.Roboclaw object at 0x703fe430>>\n",
      "<bound method Roboclaw.BackwardM1 of <roboclaw.Roboclaw object at 0x703fe430>>\n",
      "<bound method Roboclaw.ForwardM1 of <roboclaw.Roboclaw object at 0x703fe430>>\n",
      "<bound method Roboclaw.ForwardM2 of <roboclaw.Roboclaw object at 0x703fe430>>\n",
      "<bound method Roboclaw.BackwardM2 of <roboclaw.Roboclaw object at 0x703fe430>>\n",
      "<bound method Roboclaw.ForwardM2 of <roboclaw.Roboclaw object at 0x703fe430>>\n",
      "<bound method Roboclaw.ForwardM1 of <roboclaw.Roboclaw object at 0x703fe430>>\n",
      "<bound method Roboclaw.BackwardM1 of <roboclaw.Roboclaw object at 0x703fe430>>\n",
      "<bound method Roboclaw.ForwardM1 of <roboclaw.Roboclaw object at 0x703fe430>>\n",
      "<bound method Roboclaw.ForwardM2 of <roboclaw.Roboclaw object at 0x703fe430>>\n",
      "<bound method Roboclaw.BackwardM2 of <roboclaw.Roboclaw object at 0x703fe430>>\n",
      "<bound method Roboclaw.ForwardM2 of <roboclaw.Roboclaw object at 0x703fe430>>\n"
     ]
    }
   ],
   "source": [
    "lift.up() # that would be right\n",
    "lift.down() # that would be left\n",
    "lift.stop()\n",
    "launch.up() # that would be forward\n",
    "launch.down() # that would be backward\n",
    "launch.stop()\n",
    "caseL.up() # that would be open\n",
    "caseL.down() # that would be close\n",
    "caseL.stop()\n",
    "caseR.up() # that would be open\n",
    "caseR.down() # that would be close\n",
    "caseR.stop()"
   ]
  },
  {
   "cell_type": "code",
   "execution_count": 7,
   "metadata": {},
   "outputs": [
    {
     "data": {
      "text/plain": [
       "80400"
      ]
     },
     "execution_count": 7,
     "metadata": {},
     "output_type": "execute_result"
    }
   ],
   "source": [
    "launch.speed_pulses"
   ]
  },
  {
   "cell_type": "code",
   "execution_count": 8,
   "metadata": {},
   "outputs": [
    {
     "data": {
      "text/plain": [
       "130.0"
      ]
     },
     "execution_count": 8,
     "metadata": {},
     "output_type": "execute_result"
    }
   ],
   "source": [
    "lift.length"
   ]
  },
  {
   "cell_type": "markdown",
   "metadata": {},
   "source": [
    "You get it. Now let us look at what happens when we use the position method. **warning** the last line of input is just a control to see that I am manipulating the right roboclaw at the right address. Then I output the speed_pulses, as a second check and then the increment value that the motor will travel, just because."
   ]
  },
  {
   "cell_type": "code",
   "execution_count": 9,
   "metadata": {},
   "outputs": [
    {
     "name": "stdout",
     "output_type": "stream",
     "text": [
      "which position do you want to reach: 1\n",
      "objective = 3944\n",
      "What is your starting position? 0\n",
      "starting point: 0.0 degrees\n",
      "I go 3944 steps\n",
      "128, 7000, 3944\n"
     ]
    }
   ],
   "source": [
    "pitch.position()"
   ]
  },
  {
   "cell_type": "code",
   "execution_count": 10,
   "metadata": {},
   "outputs": [
    {
     "name": "stdout",
     "output_type": "stream",
     "text": [
      "which position do you want to reach: 45\n",
      "objective = 177500\n",
      "What is your starting position? 0\n",
      "starting point: 0.0 degrees\n",
      "I go 177500 steps\n",
      "128, 7000, 177500\n"
     ]
    }
   ],
   "source": [
    "pitch.position()"
   ]
  },
  {
   "cell_type": "code",
   "execution_count": 11,
   "metadata": {},
   "outputs": [
    {
     "name": "stdout",
     "output_type": "stream",
     "text": [
      "which position do you want to reach: 35\n",
      "objective = 138055\n",
      "What is your starting position? 45\n",
      "starting point: 44.99492957746479 degrees\n",
      "I go -39425 steps\n",
      "128, 7000, -39425\n"
     ]
    }
   ],
   "source": [
    "pitch.position()"
   ]
  },
  {
   "cell_type": "code",
   "execution_count": 12,
   "metadata": {},
   "outputs": [
    {
     "name": "stdout",
     "output_type": "stream",
     "text": [
      "which position do you want to reach: -4\n"
     ]
    },
    {
     "data": {
      "text/plain": [
       "('Out of bounds', 400)"
      ]
     },
     "execution_count": 12,
     "metadata": {},
     "output_type": "execute_result"
    }
   ],
   "source": [
    "pitch.position()"
   ]
  },
  {
   "cell_type": "code",
   "execution_count": 13,
   "metadata": {},
   "outputs": [
    {
     "name": "stdout",
     "output_type": "stream",
     "text": [
      "which position do you want to reach: 91\n"
     ]
    },
    {
     "data": {
      "text/plain": [
       "('Out of bounds', 400)"
      ]
     },
     "execution_count": 13,
     "metadata": {},
     "output_type": "execute_result"
    }
   ],
   "source": [
    "pitch.position()"
   ]
  },
  {
   "cell_type": "markdown",
   "metadata": {},
   "source": [
    "**What do we learn from this ?**<br>In the case of the pitch actuator, which is mounted backwards (physically it extends to lower the platform and retracts to set it back up) we learn that the author of the original code set positions relative to the $90^{o}$ angle (platform straight up) as it is the lower encoder value since the actuator is retracted and therefore the starting point. So if you type in that you want to go $20^{o}$ your point of arrival will be $70^{o}$. That is not a very efficient writing. If you wish for the platform to go to $20^{o}$, it should get to $20^{o}$ relative to $0^{o}$, the horizon."
   ]
  },
  {
   "cell_type": "code",
   "execution_count": 16,
   "metadata": {},
   "outputs": [
    {
     "name": "stdout",
     "output_type": "stream",
     "text": [
      "which position do you want to reach: 10\n",
      "objective = 52777\n",
      "What is your starting position? 0\n",
      "starting point: 0.0 degrees\n",
      "I go 52777 steps\n",
      "128, 16000, 52777\n"
     ]
    }
   ],
   "source": [
    "rotation.position()"
   ]
  },
  {
   "cell_type": "code",
   "execution_count": 19,
   "metadata": {},
   "outputs": [
    {
     "name": "stdout",
     "output_type": "stream",
     "text": [
      "which position do you want to reach: 5\n",
      "objective = 26388\n",
      "What is your starting position? 10\n",
      "starting point: 9.998526315789475\n",
      "I go -26382 steps\n",
      "128, 16000, -26382\n"
     ]
    }
   ],
   "source": [
    "rotation.position()"
   ]
  },
  {
   "cell_type": "code",
   "execution_count": 21,
   "metadata": {},
   "outputs": [
    {
     "name": "stdout",
     "output_type": "stream",
     "text": [
      "which position do you want to reach: 100\n",
      "objective = 13333\n",
      "What is your starting position? 0\n",
      "starting point: 0.0\n",
      "I go 13333 steps\n",
      "129, 80400, 13333\n"
     ]
    }
   ],
   "source": [
    "launch.position()"
   ]
  },
  {
   "cell_type": "code",
   "execution_count": 22,
   "metadata": {},
   "outputs": [
    {
     "name": "stdout",
     "output_type": "stream",
     "text": [
      "which position do you want to reach: 50\n",
      "objective = 6666\n",
      "What is your starting position? 100\n",
      "starting point: 99.75\n",
      "I go -6634 steps\n",
      "129, 80400, -6634\n"
     ]
    }
   ],
   "source": [
    "launch.position()"
   ]
  },
  {
   "cell_type": "markdown",
   "metadata": {},
   "source": [
    "As for as the code currently on the launcher is concerned, you now understand how the encoder framework works. minimum and maximum encoder values are set in BasicMicroMotionStudio where you retract your motor as much as possible, set that to 0 and then make it go forward to the maximum extention and right the encoder value down as maximum value. Anything in between is just a ratio of that frame. if you have spent a bit of time on BasicMicroMotionStudio or making motors move using my ROBOCLAW tutorial and live_test, it is now clear to you that you can by-pass all the heavy scripting of the position method with ```rc.SpeedAccelDeccelPositionM1()```. This method only requires that the maximum and minimum are set and written to the EEPROM (in BasicMicroMotionStudio) and then you can send the motor up and down at which ever speed you like and to which ever position you like within the motor´s specific encoder frame. What´s more, the roboclaw will actively try to remain at the desired position even if, say, you tried to move it by hand. That encoder frame only works with the above name method. if you bluntly send a forward order on a motor that can spin to higher encoder values, you can easily exceed the encoder maximum and the next time you use the ```rc.SpeedAccelDeccelPositionM1()```, your motor will start by returning within its frame of encoder relative to 0. Just something to look out for."
   ]
  },
  {
   "cell_type": "markdown",
   "metadata": {},
   "source": [
    "**AD HOC**: obviously if you wan to play around with the script above, you can vhange some value and run cells and see what happens. Otherwise you can copy paste it to your favorite text editor and see how it behaves. You may also want to actually try it with a motor. for that, you do not need to overwrite anything. Just go to BasicMicroMotionStudio and .tune a test motor you want to use, set the roboclaw's address to 131 (or 0x83) and then add that line to the script:"
   ]
  },
  {
   "cell_type": "code",
   "execution_count": 23,
   "metadata": {},
   "outputs": [],
   "source": [
    "# test_motor = motor(self, address, channel, pulses, length, speed_pulses, speed_manual, ready)\n",
    "test_motor = motor(131, 0, 100000, 10.0, 60000, 127, 5.0)"
   ]
  },
  {
   "cell_type": "code",
   "execution_count": 26,
   "metadata": {},
   "outputs": [
    {
     "name": "stdout",
     "output_type": "stream",
     "text": [
      "131\n",
      "0\n",
      "100000\n",
      "10.0\n",
      "60000\n",
      "127\n",
      "5.0\n"
     ]
    }
   ],
   "source": [
    "print(test_motor.address) # One can have up to 8 addresses\n",
    "print(test_motor.channel) # 0 is M1, 1 is M2\n",
    "print(test_motor.pulses) # Maximum position relative to 0\n",
    "print(test_motor.length) # What that maximum position is physically in cm or degrees\n",
    "print(test_motor.speed_pulses) # Maximum motor speed QPPS value\n",
    "print(test_motor.speed_manual) # Comfortable speed of PWM motion. 0 is 0%, 127 is 100% duty cycle\n",
    "print(test_motor.ready) # Preset position the motor would travel to is we called the PREPARE function - Not used here."
   ]
  },
  {
   "cell_type": "code",
   "execution_count": 29,
   "metadata": {},
   "outputs": [
    {
     "name": "stdout",
     "output_type": "stream",
     "text": [
      "<bound method Roboclaw.ForwardM1 of <roboclaw.Roboclaw object at 0x703fec50>>\n",
      "<bound method Roboclaw.BackwardM1 of <roboclaw.Roboclaw object at 0x703fec50>>\n",
      "<bound method Roboclaw.ForwardM1 of <roboclaw.Roboclaw object at 0x703fec50>>\n"
     ]
    }
   ],
   "source": [
    "test_motor.up()\n",
    "test_motor.down()\n",
    "test_motor.stop()"
   ]
  },
  {
   "cell_type": "code",
   "execution_count": 30,
   "metadata": {},
   "outputs": [
    {
     "name": "stdout",
     "output_type": "stream",
     "text": [
      "which position do you want to reach: 8\n",
      "objective = 80000\n",
      "What is your starting position? 0\n",
      "starting point: 0.0\n",
      "I go 80000 steps\n",
      "131, 60000, 80000\n"
     ]
    }
   ],
   "source": [
    "test_motor.position()"
   ]
  },
  {
   "cell_type": "code",
   "execution_count": 31,
   "metadata": {},
   "outputs": [
    {
     "name": "stdout",
     "output_type": "stream",
     "text": [
      "which position do you want to reach: 5\n",
      "objective = 50000\n",
      "What is your starting position? 8\n",
      "starting point: 8.0\n",
      "I go -30000 steps\n",
      "131, 60000, -30000\n"
     ]
    }
   ],
   "source": [
    "test_motor.position()"
   ]
  }
 ],
 "metadata": {
  "kernelspec": {
   "display_name": "Python 3",
   "language": "python",
   "name": "python3"
  },
  "language_info": {
   "codemirror_mode": {
    "name": "ipython",
    "version": 3
   },
   "file_extension": ".py",
   "mimetype": "text/x-python",
   "name": "python",
   "nbconvert_exporter": "python",
   "pygments_lexer": "ipython3",
   "version": "3.7.3"
  }
 },
 "nbformat": 4,
 "nbformat_minor": 2
}
