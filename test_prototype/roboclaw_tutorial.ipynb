{
 "metadata": {
  "language_info": {
   "codemirror_mode": {
    "name": "ipython",
    "version": 3
   },
   "file_extension": ".py",
   "mimetype": "text/x-python",
   "name": "python",
   "nbconvert_exporter": "python",
   "pygments_lexer": "ipython3",
   "version": "3.7.0-final"
  },
  "orig_nbformat": 2,
  "kernelspec": {
   "name": "python_defaultSpec_1598442966709",
   "display_name": "Python 3.7.0 64-bit ('base': conda)"
  }
 },
 "nbformat": 4,
 "nbformat_minor": 2,
 "cells": [
  {
   "cell_type": "markdown",
   "metadata": {},
   "source": [
    "# ROBOCLAW TUTORIAL<hr>\n",
    "Written by: Quentin Demory<br>\n",
    "August 2020 @ SSRS<br>\n",
    "MIT license<hr>\n",
    "## introduction\n",
    "ROBOCLAWS are smart motor controllers, equipped with onboard EEPROM, sensors (current, voltage, temperature...), securities (max voltage, max current...), a LOGICS side (Raspberry Pi style male connectors) to monitor speed, position, acceleration and decceleration of motors and a 'POWER' side where the energy is delivered, to effectively move the motors, via encoder regulated PWM or brute PWM orders (such as proceed forward at half speed).<br>\n",
    "Before continuing on, let us look at what the difference between what I labelled as 'encoder regulated' and 'brute' PWM.\n",
    "+ _encoder regulated_: \n",
    "```python\n",
    ">>> SpeedDistanceM1(address, speed, distance, buffer)\n",
    "```\n",
    "SpeedDistanceM1: Choose your speed and distance on channel 1 (there are 2 channels on every ROBOCLAWS, M1 & M2)<br>\n",
    "address: set up in ION motion studio always starts at 128, and increments unp to 8 ROBOCLAWS in serie (129, 130, ...)\n",
    "speed: defined by QPPS (Quadrature Pulses Per Second), the motor's maximum speed. That comes as a raw value that differ for each motor. Say I defined (through tuning in ION motion studio) my QPPS to be 50 000. I would therefore have 0 be my minimum speed and 50 000 be maximum. This defines our 0 - 100% and as such if I want to run at 50% speed capacity I should enter 25 000.<br>\n",
    "distance: also defined in ION motion studio (IMS), you can choose your min and max (raw encoder) values. say we start at 0 and I decide that my motor will travel a distance of 1 meter. Looking at the encoder value displayed in IMS, say that it is 100 000.<br>\n",
    "buffer: this can only be set to '0' or '1'. '1' means that you want a command such as SpeedDistanceM1 to take effect immediately. '0' means that you want to back it up so that your command will take effect when the current command has cleared. **This buffer/cascade system only works on commands placed on the same channel of the same ROBOCLAW**\n",
    "here it is:\n",
    "```python\n",
    ">>> SpeedDistanceM1(128, 25000, 100000, 1)\n",
    ">>> SpeedDistanceM1(128, -25000, 100000, 0)\n",
    "```\n",
    "Here. I asked the motor 1, channel 1 to proceed 1 meter forward at 50% of its max speed and once that was done, to proceed 1 meter backwards at half speed.\n",
    "+ _brute_:\n",
    "```python\n",
    ">>> ForwardM1(address, val)\n",
    "```\n",
    "ForwardM1: proceed forward on channel 1\n",
    "address: same as above\n",
    "val: any value between 0 and 127, respectively representing 0% and 100% of you output PWM signal. 50 % would sit at about 64.\n",
    "```python\n",
    ">>> ForwardM1(128, 64)\n",
    "```\n",
    "Here, I am again proceeding forward on motor 1 channel 1 at 50% of the speed but I have to manually stop when the motion has reached the meter that I aimed to travel to and then order it to go backwards`\n",
    "```python\n",
    ">>> ForwardM1(128, 0) #stop\n",
    ">>> BackwardM1(128, 64) \n",
    "```\n",
    "then wait until it reached the meter again, the point of origin of the distance covered and \n",
    "```python\n",
    ">>> ForwardM1(128, 0) #stop\n",
    "```\n",
    "A little more involved...<br>\n",
    "There is a lot of fun to be had with the ROBOCLAWS and as you can see from the very quick overview of two methods there are various ways to get motion.<br>\n",
    "**NB**: the above commands are not valid. I called them methods as they are defined within the Roboclaw class, found in the roboclaw_3 module and thus an object must be created to dispatch the methods to. if you are not familiar with classes, they are a way to contain and assign functions (methods) to a variable (object). you will soon see it being assigned in the line \n",
    "```rc = Roboclaw()```. Now ```rc``` will have the properties of the Roboclaw class and calling the above methods legitimately will look like \n",
    "```\n",
    ">>> rc.SpeedDistanceM1(128, 25000, 100000, 1)\n",
    "```"
   ]
  },
  {
   "cell_type": "markdown",
   "metadata": {},
   "source": [
    "## set up\n",
    "\n",
    "To get successfully set up, make sure that your roboclaw_3.py module is in the same folder you are working from. If you do not have the module on your machine, it can be retrieved in the downloads of BasicMicro, the ROBOCLAW makers. **you will notice** that I import from the roboclaw library instead of roboclaw_3 and it is because I deleted the roboclaw library (python 2) that comes in the download and relabelled roboclaw_3 to roboclaw. The download from BasicMicro comes loaded with many examples but they are all (as of now) python 2 examples. download them as they are fun to test with but know that you will have to reformat a bit so it is compatible with python 3 (add parenthesis to print statements, remove the commas at the end of lines and change the ```print format(\" \")``` to ```print(\" \".format())``` depending on which python version you are on. ```print repr(\" \")``` also comes up and is reformatted to ```print(repr(\" \"))```... you will find more descrepancies but they are usually confined to print statements).<br>Let's set our Claw up:"
   ]
  },
  {
   "cell_type": "code",
   "execution_count": 7,
   "metadata": {},
   "outputs": [],
   "source": [
    "from roboclaw import Roboclaw"
   ]
  },
  {
   "cell_type": "code",
   "execution_count": 8,
   "metadata": {},
   "outputs": [
    {
     "output_type": "execute_result",
     "data": {
      "text/plain": "0"
     },
     "metadata": {},
     "execution_count": 8
    }
   ],
   "source": [
    "#Open serial port\n",
    "#Linux comport name - RPi\n",
    "rc = Roboclaw(\"/dev/ttyACM0\",115200)\n",
    "#Windows comport name\n",
    "#rc = Roboclaw(\"COM8\",115200)\n",
    "rc.Open()"
   ]
  },
  {
   "cell_type": "code",
   "execution_count": 9,
   "metadata": {},
   "outputs": [
    {
     "output_type": "error",
     "ename": "AttributeError",
     "evalue": "'Roboclaw' object has no attribute '_port'",
     "traceback": [
      "\u001b[1;31m---------------------------------------------------------------------------\u001b[0m",
      "\u001b[1;31mAttributeError\u001b[0m                            Traceback (most recent call last)",
      "\u001b[1;32m<ipython-input-9-74f13874d177>\u001b[0m in \u001b[0;36m<module>\u001b[1;34m()\u001b[0m\n\u001b[1;32m----> 1\u001b[1;33m \u001b[0mrc\u001b[0m\u001b[1;33m.\u001b[0m\u001b[0mSpeedAccelDeccelPositionM1\u001b[0m\u001b[1;33m(\u001b[0m\u001b[1;36m129\u001b[0m\u001b[1;33m,\u001b[0m \u001b[1;36m400000\u001b[0m\u001b[1;33m,\u001b[0m \u001b[1;36m50000\u001b[0m\u001b[1;33m,\u001b[0m \u001b[1;36m300000\u001b[0m\u001b[1;33m,\u001b[0m \u001b[1;36m10000\u001b[0m\u001b[1;33m,\u001b[0m \u001b[1;36m1\u001b[0m\u001b[1;33m)\u001b[0m\u001b[1;33m\u001b[0m\u001b[0m\n\u001b[0m",
      "\u001b[1;32mc:\\Users\\kent1\\Documents\\GitHub\\SSRS-Drone-Launcher\\final-codes\\python\\roboclaw.py\u001b[0m in \u001b[0;36mSpeedAccelDeccelPositionM1\u001b[1;34m(self, address, accel, speed, deccel, position, buffer)\u001b[0m\n\u001b[0;32m    932\u001b[0m \u001b[1;33m\u001b[0m\u001b[0m\n\u001b[0;32m    933\u001b[0m     \u001b[1;32mdef\u001b[0m \u001b[0mSpeedAccelDeccelPositionM1\u001b[0m\u001b[1;33m(\u001b[0m\u001b[0mself\u001b[0m\u001b[1;33m,\u001b[0m\u001b[0maddress\u001b[0m\u001b[1;33m,\u001b[0m\u001b[0maccel\u001b[0m\u001b[1;33m,\u001b[0m\u001b[0mspeed\u001b[0m\u001b[1;33m,\u001b[0m\u001b[0mdeccel\u001b[0m\u001b[1;33m,\u001b[0m\u001b[0mposition\u001b[0m\u001b[1;33m,\u001b[0m\u001b[0mbuffer\u001b[0m\u001b[1;33m)\u001b[0m\u001b[1;33m:\u001b[0m\u001b[1;33m\u001b[0m\u001b[0m\n\u001b[1;32m--> 934\u001b[1;33m         \u001b[1;32mreturn\u001b[0m \u001b[0mself\u001b[0m\u001b[1;33m.\u001b[0m\u001b[0m_write44441\u001b[0m\u001b[1;33m(\u001b[0m\u001b[0maddress\u001b[0m\u001b[1;33m,\u001b[0m\u001b[0mself\u001b[0m\u001b[1;33m.\u001b[0m\u001b[0mCmd\u001b[0m\u001b[1;33m.\u001b[0m\u001b[0mM1SPEEDACCELDECCELPOS\u001b[0m\u001b[1;33m,\u001b[0m\u001b[0maccel\u001b[0m\u001b[1;33m,\u001b[0m\u001b[0mspeed\u001b[0m\u001b[1;33m,\u001b[0m\u001b[0mdeccel\u001b[0m\u001b[1;33m,\u001b[0m\u001b[0mposition\u001b[0m\u001b[1;33m,\u001b[0m\u001b[0mbuffer\u001b[0m\u001b[1;33m)\u001b[0m\u001b[1;33m\u001b[0m\u001b[0m\n\u001b[0m\u001b[0;32m    935\u001b[0m \u001b[1;33m\u001b[0m\u001b[0m\n\u001b[0;32m    936\u001b[0m     \u001b[1;32mdef\u001b[0m \u001b[0mSpeedAccelDeccelPositionM2\u001b[0m\u001b[1;33m(\u001b[0m\u001b[0mself\u001b[0m\u001b[1;33m,\u001b[0m\u001b[0maddress\u001b[0m\u001b[1;33m,\u001b[0m\u001b[0maccel\u001b[0m\u001b[1;33m,\u001b[0m\u001b[0mspeed\u001b[0m\u001b[1;33m,\u001b[0m\u001b[0mdeccel\u001b[0m\u001b[1;33m,\u001b[0m\u001b[0mposition\u001b[0m\u001b[1;33m,\u001b[0m\u001b[0mbuffer\u001b[0m\u001b[1;33m)\u001b[0m\u001b[1;33m:\u001b[0m\u001b[1;33m\u001b[0m\u001b[0m\n",
      "\u001b[1;32mc:\\Users\\kent1\\Documents\\GitHub\\SSRS-Drone-Launcher\\final-codes\\python\\roboclaw.py\u001b[0m in \u001b[0;36m_write44441\u001b[1;34m(self, address, cmd, val1, val2, val3, val4, val5)\u001b[0m\n\u001b[0;32m    553\u001b[0m         \u001b[0mtrys\u001b[0m\u001b[1;33m=\u001b[0m\u001b[0mself\u001b[0m\u001b[1;33m.\u001b[0m\u001b[0m_trystimeout\u001b[0m\u001b[1;33m\u001b[0m\u001b[0m\n\u001b[0;32m    554\u001b[0m         \u001b[1;32mwhile\u001b[0m \u001b[0mtrys\u001b[0m\u001b[1;33m:\u001b[0m\u001b[1;33m\u001b[0m\u001b[0m\n\u001b[1;32m--> 555\u001b[1;33m             \u001b[0mself\u001b[0m\u001b[1;33m.\u001b[0m\u001b[0m_sendcommand\u001b[0m\u001b[1;33m(\u001b[0m\u001b[0maddress\u001b[0m\u001b[1;33m,\u001b[0m\u001b[0mcmd\u001b[0m\u001b[1;33m)\u001b[0m\u001b[1;33m\u001b[0m\u001b[0m\n\u001b[0m\u001b[0;32m    556\u001b[0m             \u001b[0mself\u001b[0m\u001b[1;33m.\u001b[0m\u001b[0m_writelong\u001b[0m\u001b[1;33m(\u001b[0m\u001b[0mval1\u001b[0m\u001b[1;33m)\u001b[0m\u001b[1;33m\u001b[0m\u001b[0m\n\u001b[0;32m    557\u001b[0m             \u001b[0mself\u001b[0m\u001b[1;33m.\u001b[0m\u001b[0m_writelong\u001b[0m\u001b[1;33m(\u001b[0m\u001b[0mval2\u001b[0m\u001b[1;33m)\u001b[0m\u001b[1;33m\u001b[0m\u001b[0m\n",
      "\u001b[1;32mc:\\Users\\kent1\\Documents\\GitHub\\SSRS-Drone-Launcher\\final-codes\\python\\roboclaw.py\u001b[0m in \u001b[0;36m_sendcommand\u001b[1;34m(self, address, command)\u001b[0m\n\u001b[0;32m    127\u001b[0m         \u001b[0mself\u001b[0m\u001b[1;33m.\u001b[0m\u001b[0mcrc_update\u001b[0m\u001b[1;33m(\u001b[0m\u001b[0maddress\u001b[0m\u001b[1;33m)\u001b[0m\u001b[1;33m\u001b[0m\u001b[0m\n\u001b[0;32m    128\u001b[0m \u001b[1;31m#       self._port.write(chr(address))\u001b[0m\u001b[1;33m\u001b[0m\u001b[1;33m\u001b[0m\u001b[0m\n\u001b[1;32m--> 129\u001b[1;33m         \u001b[0mself\u001b[0m\u001b[1;33m.\u001b[0m\u001b[0m_port\u001b[0m\u001b[1;33m.\u001b[0m\u001b[0mwrite\u001b[0m\u001b[1;33m(\u001b[0m\u001b[0maddress\u001b[0m\u001b[1;33m.\u001b[0m\u001b[0mto_bytes\u001b[0m\u001b[1;33m(\u001b[0m\u001b[1;36m1\u001b[0m\u001b[1;33m,\u001b[0m \u001b[1;34m'big'\u001b[0m\u001b[1;33m)\u001b[0m\u001b[1;33m)\u001b[0m\u001b[1;33m\u001b[0m\u001b[0m\n\u001b[0m\u001b[0;32m    130\u001b[0m         \u001b[0mself\u001b[0m\u001b[1;33m.\u001b[0m\u001b[0mcrc_update\u001b[0m\u001b[1;33m(\u001b[0m\u001b[0mcommand\u001b[0m\u001b[1;33m)\u001b[0m\u001b[1;33m\u001b[0m\u001b[0m\n\u001b[0;32m    131\u001b[0m \u001b[1;31m#       self._port.write(chr(command))\u001b[0m\u001b[1;33m\u001b[0m\u001b[1;33m\u001b[0m\u001b[0m\n",
      "\u001b[1;31mAttributeError\u001b[0m: 'Roboclaw' object has no attribute '_port'"
     ]
    }
   ],
   "source": [
    "rc.SpeedAccelDeccelPositionM1(129, 400000, 50000, 300000, 10000, 1)"
   ]
  },
  {
   "cell_type": "code",
   "execution_count": null,
   "metadata": {},
   "outputs": [],
   "source": []
  }
 ]
}